{
 "cells": [
  {
   "cell_type": "code",
   "execution_count": 1,
   "id": "f808050f",
   "metadata": {},
   "outputs": [],
   "source": [
    "import numpy as np\n",
    "import pandas as pd\n",
    "from sklearn.model_selection import train_test_split\n",
    "from sklearn.feature_extraction.text import TfidfVectorizer\n",
    "from sklearn.linear_model import LogisticRegression\n",
    "from sklearn.metrics import accuracy_score"
   ]
  },
  {
   "cell_type": "code",
   "execution_count": 2,
   "id": "cab3ffe6",
   "metadata": {},
   "outputs": [],
   "source": [
    "df = pd.read_csv('spam.csv', encoding='latin1')"
   ]
  },
  {
   "cell_type": "code",
   "execution_count": 3,
   "id": "6db0f037",
   "metadata": {},
   "outputs": [
    {
     "name": "stdout",
     "output_type": "stream",
     "text": [
      "        v1                                                 v2 Unnamed: 2  \\\n",
      "0      ham  Go until jurong point, crazy.. Available only ...        NaN   \n",
      "1      ham                      Ok lar... Joking wif u oni...        NaN   \n",
      "2     spam  Free entry in 2 a wkly comp to win FA Cup fina...        NaN   \n",
      "3      ham  U dun say so early hor... U c already then say...        NaN   \n",
      "4      ham  Nah I don't think he goes to usf, he lives aro...        NaN   \n",
      "...    ...                                                ...        ...   \n",
      "5567  spam  This is the 2nd time we have tried 2 contact u...        NaN   \n",
      "5568   ham              Will Ì_ b going to esplanade fr home?        NaN   \n",
      "5569   ham  Pity, * was in mood for that. So...any other s...        NaN   \n",
      "5570   ham  The guy did some bitching but I acted like i'd...        NaN   \n",
      "5571   ham                         Rofl. Its true to its name        NaN   \n",
      "\n",
      "     Unnamed: 3 Unnamed: 4  \n",
      "0           NaN        NaN  \n",
      "1           NaN        NaN  \n",
      "2           NaN        NaN  \n",
      "3           NaN        NaN  \n",
      "4           NaN        NaN  \n",
      "...         ...        ...  \n",
      "5567        NaN        NaN  \n",
      "5568        NaN        NaN  \n",
      "5569        NaN        NaN  \n",
      "5570        NaN        NaN  \n",
      "5571        NaN        NaN  \n",
      "\n",
      "[5572 rows x 5 columns]\n"
     ]
    }
   ],
   "source": [
    "print (df)"
   ]
  },
  {
   "cell_type": "code",
   "execution_count": 4,
   "id": "43c2bd14",
   "metadata": {},
   "outputs": [],
   "source": [
    "data = df.where(pd.notnull(df), '')"
   ]
  },
  {
   "cell_type": "code",
   "execution_count": 5,
   "id": "3739e840",
   "metadata": {},
   "outputs": [
    {
     "name": "stdout",
     "output_type": "stream",
     "text": [
      "        v1                                                 v2 Unnamed: 2  \\\n",
      "0      ham  Go until jurong point, crazy.. Available only ...              \n",
      "1      ham                      Ok lar... Joking wif u oni...              \n",
      "2     spam  Free entry in 2 a wkly comp to win FA Cup fina...              \n",
      "3      ham  U dun say so early hor... U c already then say...              \n",
      "4      ham  Nah I don't think he goes to usf, he lives aro...              \n",
      "...    ...                                                ...        ...   \n",
      "5567  spam  This is the 2nd time we have tried 2 contact u...              \n",
      "5568   ham              Will Ì_ b going to esplanade fr home?              \n",
      "5569   ham  Pity, * was in mood for that. So...any other s...              \n",
      "5570   ham  The guy did some bitching but I acted like i'd...              \n",
      "5571   ham                         Rofl. Its true to its name              \n",
      "\n",
      "     Unnamed: 3 Unnamed: 4  \n",
      "0                           \n",
      "1                           \n",
      "2                           \n",
      "3                           \n",
      "4                           \n",
      "...         ...        ...  \n",
      "5567                        \n",
      "5568                        \n",
      "5569                        \n",
      "5570                        \n",
      "5571                        \n",
      "\n",
      "[5572 rows x 5 columns]\n"
     ]
    }
   ],
   "source": [
    "print (data)"
   ]
  },
  {
   "cell_type": "code",
   "execution_count": 6,
   "id": "1dd85a8d",
   "metadata": {},
   "outputs": [
    {
     "data": {
      "text/html": [
       "<div>\n",
       "<style scoped>\n",
       "    .dataframe tbody tr th:only-of-type {\n",
       "        vertical-align: middle;\n",
       "    }\n",
       "\n",
       "    .dataframe tbody tr th {\n",
       "        vertical-align: top;\n",
       "    }\n",
       "\n",
       "    .dataframe thead th {\n",
       "        text-align: right;\n",
       "    }\n",
       "</style>\n",
       "<table border=\"1\" class=\"dataframe\">\n",
       "  <thead>\n",
       "    <tr style=\"text-align: right;\">\n",
       "      <th></th>\n",
       "      <th>v1</th>\n",
       "      <th>v2</th>\n",
       "      <th>Unnamed: 2</th>\n",
       "      <th>Unnamed: 3</th>\n",
       "      <th>Unnamed: 4</th>\n",
       "    </tr>\n",
       "  </thead>\n",
       "  <tbody>\n",
       "    <tr>\n",
       "      <th>0</th>\n",
       "      <td>ham</td>\n",
       "      <td>Go until jurong point, crazy.. Available only ...</td>\n",
       "      <td></td>\n",
       "      <td></td>\n",
       "      <td></td>\n",
       "    </tr>\n",
       "    <tr>\n",
       "      <th>1</th>\n",
       "      <td>ham</td>\n",
       "      <td>Ok lar... Joking wif u oni...</td>\n",
       "      <td></td>\n",
       "      <td></td>\n",
       "      <td></td>\n",
       "    </tr>\n",
       "    <tr>\n",
       "      <th>2</th>\n",
       "      <td>spam</td>\n",
       "      <td>Free entry in 2 a wkly comp to win FA Cup fina...</td>\n",
       "      <td></td>\n",
       "      <td></td>\n",
       "      <td></td>\n",
       "    </tr>\n",
       "    <tr>\n",
       "      <th>3</th>\n",
       "      <td>ham</td>\n",
       "      <td>U dun say so early hor... U c already then say...</td>\n",
       "      <td></td>\n",
       "      <td></td>\n",
       "      <td></td>\n",
       "    </tr>\n",
       "    <tr>\n",
       "      <th>4</th>\n",
       "      <td>ham</td>\n",
       "      <td>Nah I don't think he goes to usf, he lives aro...</td>\n",
       "      <td></td>\n",
       "      <td></td>\n",
       "      <td></td>\n",
       "    </tr>\n",
       "  </tbody>\n",
       "</table>\n",
       "</div>"
      ],
      "text/plain": [
       "     v1                                                 v2 Unnamed: 2  \\\n",
       "0   ham  Go until jurong point, crazy.. Available only ...              \n",
       "1   ham                      Ok lar... Joking wif u oni...              \n",
       "2  spam  Free entry in 2 a wkly comp to win FA Cup fina...              \n",
       "3   ham  U dun say so early hor... U c already then say...              \n",
       "4   ham  Nah I don't think he goes to usf, he lives aro...              \n",
       "\n",
       "  Unnamed: 3 Unnamed: 4  \n",
       "0                        \n",
       "1                        \n",
       "2                        \n",
       "3                        \n",
       "4                        "
      ]
     },
     "execution_count": 6,
     "metadata": {},
     "output_type": "execute_result"
    }
   ],
   "source": [
    "data.head()"
   ]
  },
  {
   "cell_type": "code",
   "execution_count": 7,
   "id": "ea52adb7",
   "metadata": {},
   "outputs": [
    {
     "name": "stdout",
     "output_type": "stream",
     "text": [
      "<class 'pandas.core.frame.DataFrame'>\n",
      "RangeIndex: 5572 entries, 0 to 5571\n",
      "Data columns (total 5 columns):\n",
      " #   Column      Non-Null Count  Dtype \n",
      "---  ------      --------------  ----- \n",
      " 0   v1          5572 non-null   object\n",
      " 1   v2          5572 non-null   object\n",
      " 2   Unnamed: 2  5572 non-null   object\n",
      " 3   Unnamed: 3  5572 non-null   object\n",
      " 4   Unnamed: 4  5572 non-null   object\n",
      "dtypes: object(5)\n",
      "memory usage: 217.8+ KB\n"
     ]
    }
   ],
   "source": [
    "data.info()"
   ]
  },
  {
   "cell_type": "code",
   "execution_count": 8,
   "id": "a26db3bb",
   "metadata": {},
   "outputs": [],
   "source": [
    "data.columns = ['Category', 'Message', \"Error column\",\"Error column\",\"Error column\"]"
   ]
  },
  {
   "cell_type": "code",
   "execution_count": 9,
   "id": "cd5ac5cf",
   "metadata": {},
   "outputs": [
    {
     "data": {
      "text/html": [
       "<div>\n",
       "<style scoped>\n",
       "    .dataframe tbody tr th:only-of-type {\n",
       "        vertical-align: middle;\n",
       "    }\n",
       "\n",
       "    .dataframe tbody tr th {\n",
       "        vertical-align: top;\n",
       "    }\n",
       "\n",
       "    .dataframe thead th {\n",
       "        text-align: right;\n",
       "    }\n",
       "</style>\n",
       "<table border=\"1\" class=\"dataframe\">\n",
       "  <thead>\n",
       "    <tr style=\"text-align: right;\">\n",
       "      <th></th>\n",
       "      <th>Category</th>\n",
       "      <th>Message</th>\n",
       "      <th>Error column</th>\n",
       "      <th>Error column</th>\n",
       "      <th>Error column</th>\n",
       "    </tr>\n",
       "  </thead>\n",
       "  <tbody>\n",
       "    <tr>\n",
       "      <th>0</th>\n",
       "      <td>ham</td>\n",
       "      <td>Go until jurong point, crazy.. Available only ...</td>\n",
       "      <td></td>\n",
       "      <td></td>\n",
       "      <td></td>\n",
       "    </tr>\n",
       "    <tr>\n",
       "      <th>1</th>\n",
       "      <td>ham</td>\n",
       "      <td>Ok lar... Joking wif u oni...</td>\n",
       "      <td></td>\n",
       "      <td></td>\n",
       "      <td></td>\n",
       "    </tr>\n",
       "    <tr>\n",
       "      <th>2</th>\n",
       "      <td>spam</td>\n",
       "      <td>Free entry in 2 a wkly comp to win FA Cup fina...</td>\n",
       "      <td></td>\n",
       "      <td></td>\n",
       "      <td></td>\n",
       "    </tr>\n",
       "    <tr>\n",
       "      <th>3</th>\n",
       "      <td>ham</td>\n",
       "      <td>U dun say so early hor... U c already then say...</td>\n",
       "      <td></td>\n",
       "      <td></td>\n",
       "      <td></td>\n",
       "    </tr>\n",
       "    <tr>\n",
       "      <th>4</th>\n",
       "      <td>ham</td>\n",
       "      <td>Nah I don't think he goes to usf, he lives aro...</td>\n",
       "      <td></td>\n",
       "      <td></td>\n",
       "      <td></td>\n",
       "    </tr>\n",
       "  </tbody>\n",
       "</table>\n",
       "</div>"
      ],
      "text/plain": [
       "  Category                                            Message Error column  \\\n",
       "0      ham  Go until jurong point, crazy.. Available only ...                \n",
       "1      ham                      Ok lar... Joking wif u oni...                \n",
       "2     spam  Free entry in 2 a wkly comp to win FA Cup fina...                \n",
       "3      ham  U dun say so early hor... U c already then say...                \n",
       "4      ham  Nah I don't think he goes to usf, he lives aro...                \n",
       "\n",
       "  Error column Error column  \n",
       "0                            \n",
       "1                            \n",
       "2                            \n",
       "3                            \n",
       "4                            "
      ]
     },
     "execution_count": 9,
     "metadata": {},
     "output_type": "execute_result"
    }
   ],
   "source": [
    "data.head()"
   ]
  },
  {
   "cell_type": "code",
   "execution_count": 10,
   "id": "97e366c0",
   "metadata": {},
   "outputs": [],
   "source": [
    "data = data.iloc[:, :-3]"
   ]
  },
  {
   "cell_type": "code",
   "execution_count": 11,
   "id": "ddce6379",
   "metadata": {},
   "outputs": [
    {
     "data": {
      "text/html": [
       "<div>\n",
       "<style scoped>\n",
       "    .dataframe tbody tr th:only-of-type {\n",
       "        vertical-align: middle;\n",
       "    }\n",
       "\n",
       "    .dataframe tbody tr th {\n",
       "        vertical-align: top;\n",
       "    }\n",
       "\n",
       "    .dataframe thead th {\n",
       "        text-align: right;\n",
       "    }\n",
       "</style>\n",
       "<table border=\"1\" class=\"dataframe\">\n",
       "  <thead>\n",
       "    <tr style=\"text-align: right;\">\n",
       "      <th></th>\n",
       "      <th>Category</th>\n",
       "      <th>Message</th>\n",
       "    </tr>\n",
       "  </thead>\n",
       "  <tbody>\n",
       "    <tr>\n",
       "      <th>0</th>\n",
       "      <td>ham</td>\n",
       "      <td>Go until jurong point, crazy.. Available only ...</td>\n",
       "    </tr>\n",
       "    <tr>\n",
       "      <th>1</th>\n",
       "      <td>ham</td>\n",
       "      <td>Ok lar... Joking wif u oni...</td>\n",
       "    </tr>\n",
       "    <tr>\n",
       "      <th>2</th>\n",
       "      <td>spam</td>\n",
       "      <td>Free entry in 2 a wkly comp to win FA Cup fina...</td>\n",
       "    </tr>\n",
       "    <tr>\n",
       "      <th>3</th>\n",
       "      <td>ham</td>\n",
       "      <td>U dun say so early hor... U c already then say...</td>\n",
       "    </tr>\n",
       "    <tr>\n",
       "      <th>4</th>\n",
       "      <td>ham</td>\n",
       "      <td>Nah I don't think he goes to usf, he lives aro...</td>\n",
       "    </tr>\n",
       "  </tbody>\n",
       "</table>\n",
       "</div>"
      ],
      "text/plain": [
       "  Category                                            Message\n",
       "0      ham  Go until jurong point, crazy.. Available only ...\n",
       "1      ham                      Ok lar... Joking wif u oni...\n",
       "2     spam  Free entry in 2 a wkly comp to win FA Cup fina...\n",
       "3      ham  U dun say so early hor... U c already then say...\n",
       "4      ham  Nah I don't think he goes to usf, he lives aro..."
      ]
     },
     "execution_count": 11,
     "metadata": {},
     "output_type": "execute_result"
    }
   ],
   "source": [
    "data.head()"
   ]
  },
  {
   "cell_type": "code",
   "execution_count": 12,
   "id": "9017dda9",
   "metadata": {},
   "outputs": [
    {
     "data": {
      "text/plain": [
       "(5572, 2)"
      ]
     },
     "execution_count": 12,
     "metadata": {},
     "output_type": "execute_result"
    }
   ],
   "source": [
    "data.shape"
   ]
  },
  {
   "cell_type": "code",
   "execution_count": 13,
   "id": "652c36ee",
   "metadata": {},
   "outputs": [],
   "source": [
    "data.loc[data['Category'] == 'spam','Category',] = 0\n",
    "data.loc[data['Category'] == 'ham', 'Category',] = 1"
   ]
  },
  {
   "cell_type": "code",
   "execution_count": 14,
   "id": "c60d28ae",
   "metadata": {},
   "outputs": [],
   "source": [
    "X = data['Message']\n",
    "Y = data['Category']"
   ]
  },
  {
   "cell_type": "code",
   "execution_count": 15,
   "id": "025cea07",
   "metadata": {},
   "outputs": [
    {
     "name": "stdout",
     "output_type": "stream",
     "text": [
      "0       Go until jurong point, crazy.. Available only ...\n",
      "1                           Ok lar... Joking wif u oni...\n",
      "2       Free entry in 2 a wkly comp to win FA Cup fina...\n",
      "3       U dun say so early hor... U c already then say...\n",
      "4       Nah I don't think he goes to usf, he lives aro...\n",
      "                              ...                        \n",
      "5567    This is the 2nd time we have tried 2 contact u...\n",
      "5568                Will Ì_ b going to esplanade fr home?\n",
      "5569    Pity, * was in mood for that. So...any other s...\n",
      "5570    The guy did some bitching but I acted like i'd...\n",
      "5571                           Rofl. Its true to its name\n",
      "Name: Message, Length: 5572, dtype: object\n"
     ]
    }
   ],
   "source": [
    "print(X)"
   ]
  },
  {
   "cell_type": "code",
   "execution_count": 16,
   "id": "9fda299c",
   "metadata": {},
   "outputs": [
    {
     "name": "stdout",
     "output_type": "stream",
     "text": [
      "0       1\n",
      "1       1\n",
      "2       0\n",
      "3       1\n",
      "4       1\n",
      "       ..\n",
      "5567    0\n",
      "5568    1\n",
      "5569    1\n",
      "5570    1\n",
      "5571    1\n",
      "Name: Category, Length: 5572, dtype: object\n"
     ]
    }
   ],
   "source": [
    "print(Y)"
   ]
  },
  {
   "cell_type": "code",
   "execution_count": 17,
   "id": "8b23f7e7",
   "metadata": {},
   "outputs": [],
   "source": [
    "#Organize data into testing and training\n",
    "X_train, X_test, Y_train, Y_test = train_test_split(X, Y, test_size = 0.2, random_state = 1)"
   ]
  },
  {
   "cell_type": "code",
   "execution_count": 18,
   "id": "f7a298ef",
   "metadata": {},
   "outputs": [
    {
     "name": "stdout",
     "output_type": "stream",
     "text": [
      "(5572,)\n",
      "(4457,)\n",
      "(1115,)\n"
     ]
    }
   ],
   "source": [
    "print (X.shape)\n",
    "print (X_train.shape)\n",
    "print (X_test.shape)"
   ]
  },
  {
   "cell_type": "code",
   "execution_count": 19,
   "id": "cf6f5057",
   "metadata": {},
   "outputs": [
    {
     "name": "stdout",
     "output_type": "stream",
     "text": [
      "(5572,)\n",
      "(4457,)\n",
      "(1115,)\n"
     ]
    }
   ],
   "source": [
    "print (Y.shape)\n",
    "print (Y_train.shape)\n",
    "print (Y_test.shape)"
   ]
  },
  {
   "cell_type": "code",
   "execution_count": 20,
   "id": "7f7d98f9",
   "metadata": {},
   "outputs": [],
   "source": [
    "FE_formula =TfidfVectorizer(stop_words = 'english')\n",
    "\n",
    "X_train_features = FE_formula.fit_transform(X_train)\n",
    "x_test_features = FE_formula.transform(X_test)\n",
    "\n",
    "Y_train = Y_train.astype('int')\n",
    "Y_test = Y_test.astype('int')"
   ]
  },
  {
   "cell_type": "code",
   "execution_count": 21,
   "id": "d2a3da6c",
   "metadata": {},
   "outputs": [
    {
     "name": "stdout",
     "output_type": "stream",
     "text": [
      "1642                             Sleeping nt feeling well\n",
      "2899    Come aftr  &lt;DECIMAL&gt; ..now i m cleaning ...\n",
      "480                          Almost there, see u in a sec\n",
      "3485                     Yeah, probably earlier than that\n",
      "157     Hello, my love. What are you doing? Did you ge...\n",
      "                              ...                        \n",
      "905     Hey what's up charles sorry about the late reply.\n",
      "5192    Oh oh... Den muz change plan liao... Go back h...\n",
      "3980    Huh i cant thk of more oredi how many pages do...\n",
      "235     I have printed it oh. So  &lt;#&gt;  come upst...\n",
      "5157                              K k:) sms chat with me.\n",
      "Name: Message, Length: 4457, dtype: object\n"
     ]
    }
   ],
   "source": [
    "print(X_train)"
   ]
  },
  {
   "cell_type": "code",
   "execution_count": 22,
   "id": "5b395013",
   "metadata": {},
   "outputs": [
    {
     "name": "stdout",
     "output_type": "stream",
     "text": [
      "  (0, 2739)\t0.5661413941688949\n",
      "  (0, 4734)\t0.5828738807874735\n",
      "  (0, 6051)\t0.5828738807874735\n",
      "  (1, 3431)\t0.38166677083793976\n",
      "  (1, 1794)\t0.4928346587013423\n",
      "  (1, 3179)\t0.2614741786115956\n",
      "  (1, 2162)\t0.4118277077578676\n",
      "  (1, 4152)\t0.26114903371938536\n",
      "  (1, 846)\t0.48130454459008765\n",
      "  (1, 1861)\t0.27133150537215994\n",
      "  (2, 5814)\t1.0\n",
      "  (3, 2453)\t0.6394475559833329\n",
      "  (3, 5280)\t0.5833023528253845\n",
      "  (3, 7437)\t0.5008644410769376\n",
      "  (4, 4412)\t0.3713329375429202\n",
      "  (4, 6666)\t0.2584021235225953\n",
      "  (4, 1430)\t0.34793787477954463\n",
      "  (4, 3101)\t0.22624887120758294\n",
      "  (4, 3252)\t0.28392719425882285\n",
      "  (4, 6752)\t0.24670296033171316\n",
      "  (4, 3620)\t0.4232250841264279\n",
      "  (4, 2254)\t0.26218631750006244\n",
      "  (4, 2353)\t0.2768846196766175\n",
      "  (4, 4130)\t0.24304034294807647\n",
      "  (4, 3312)\t0.31307991873957736\n",
      "  :\t:\n",
      "  (4452, 1695)\t0.6386456703013925\n",
      "  (4452, 3934)\t0.4286800890390684\n",
      "  (4452, 5563)\t0.36520509775147814\n",
      "  (4452, 6162)\t0.35688242890726146\n",
      "  (4452, 3335)\t0.3842203242676372\n",
      "  (4453, 3729)\t0.3737376735558097\n",
      "  (4453, 7428)\t0.3737376735558097\n",
      "  (4453, 2198)\t0.30173040884316094\n",
      "  (4453, 1681)\t0.32259510446528517\n",
      "  (4453, 3998)\t0.28855679664532674\n",
      "  (4453, 4560)\t0.3486526118088619\n",
      "  (4453, 5093)\t0.2980911962216171\n",
      "  (4453, 4794)\t0.4815074576871729\n",
      "  (4454, 4914)\t0.5793939984280972\n",
      "  (4454, 3455)\t0.47481324475531766\n",
      "  (4454, 6675)\t0.4094407394953514\n",
      "  (4454, 4858)\t0.5207813917873108\n",
      "  (4455, 6984)\t0.5853256943578301\n",
      "  (4455, 5265)\t0.5580756376533823\n",
      "  (4455, 4794)\t0.329491674052282\n",
      "  (4455, 3179)\t0.27787350900869934\n",
      "  (4455, 4152)\t0.27752797143931307\n",
      "  (4455, 1861)\t0.2883490748597814\n",
      "  (4456, 6098)\t0.7085490640623096\n",
      "  (4456, 1702)\t0.7056615504733308\n"
     ]
    }
   ],
   "source": [
    "print(X_train_features)"
   ]
  },
  {
   "cell_type": "code",
   "execution_count": 23,
   "id": "b9f1f028",
   "metadata": {},
   "outputs": [],
   "source": [
    "model = LogisticRegression()"
   ]
  },
  {
   "cell_type": "code",
   "execution_count": 24,
   "id": "1589b434",
   "metadata": {},
   "outputs": [
    {
     "data": {
      "text/plain": [
       "LogisticRegression()"
      ]
     },
     "execution_count": 24,
     "metadata": {},
     "output_type": "execute_result"
    }
   ],
   "source": [
    "model.fit(X_train_features, Y_train)"
   ]
  },
  {
   "cell_type": "code",
   "execution_count": 25,
   "id": "d6522686",
   "metadata": {},
   "outputs": [],
   "source": [
    "Training_Prediction = model.predict(X_train_features)\n",
    "Training_Accuracy = accuracy_score(Y_train, Training_Prediction)"
   ]
  },
  {
   "cell_type": "code",
   "execution_count": 26,
   "id": "fd98cb79",
   "metadata": {},
   "outputs": [
    {
     "name": "stdout",
     "output_type": "stream",
     "text": [
      "Data Accuracy:  0.9670181736594121\n"
     ]
    }
   ],
   "source": [
    "print('Data Accuracy: ', Training_Accuracy)"
   ]
  },
  {
   "cell_type": "code",
   "execution_count": 27,
   "id": "a9b0e302",
   "metadata": {},
   "outputs": [],
   "source": [
    "Test_Prediction = model.predict(x_test_features)\n",
    "Test_Accuracy = accuracy_score(Y_test, Test_Prediction)"
   ]
  },
  {
   "cell_type": "code",
   "execution_count": 28,
   "id": "0cf90240",
   "metadata": {},
   "outputs": [
    {
     "name": "stdout",
     "output_type": "stream",
     "text": [
      "Test Data Accuracy:  0.9775784753363229\n"
     ]
    }
   ],
   "source": [
    "print ('Test Data Accuracy: ', Test_Accuracy)"
   ]
  },
  {
   "cell_type": "code",
   "execution_count": 29,
   "id": "dd471a0e",
   "metadata": {},
   "outputs": [],
   "source": [
    "def user_input(Ham, user_string):\n",
    "    feature = FE_formula.transform([user_string])\n",
    "    prediction = model.predict(feature)\n",
    "    \n",
    "    if prediction[0] == 1 and Ham:\n",
    "        print('Ham SMS: True positive')\n",
    "    elif prediction[0] == 1 and not Ham:\n",
    "        print('Ham SMS: False positive')\n",
    "    elif prediction[0] == 0 and Ham:\n",
    "        print ('Spam SMS: False negative')\n",
    "    elif prediction [0] == 0 and not Ham:\n",
    "        print('Spam SMS: True Negative')"
   ]
  },
  {
   "cell_type": "code",
   "execution_count": null,
   "id": "ea304b0a",
   "metadata": {},
   "outputs": [
    {
     "name": "stdout",
     "output_type": "stream",
     "text": [
      "Paste your SMS:Congratulations! youhave won wkly prize 1000$\n",
      "State whether mail is Ham, or Spam: Spam\n",
      "Spam SMS: True Negative\n",
      "Do you want to test another SMS? Type yes, or no: yes\n",
      "Paste your SMS:Hello Grandpa, how are you?\n",
      "State whether mail is Ham, or Spam: Ham\n",
      "Ham SMS: True positive\n"
     ]
    }
   ],
   "source": [
    "loop = True\n",
    "while (loop):\n",
    "    input_string = input('Paste your SMS:')\n",
    "    Truth = input('State whether mail is Ham, or Spam: ')\n",
    "    Ham = (Truth == 'Ham')\n",
    "    user_input(Ham, input_string)\n",
    "    user_bool = input('Do you want to test another SMS? Type yes, or no: ')\n",
    "    proceed = (user_bool == 'yes')\n",
    "    \n",
    "    if not proceed:\n",
    "        loop = False"
   ]
  },
  {
   "cell_type": "code",
   "execution_count": null,
   "id": "b1191f65",
   "metadata": {},
   "outputs": [],
   "source": []
  }
 ],
 "metadata": {
  "kernelspec": {
   "display_name": "Python 3 (ipykernel)",
   "language": "python",
   "name": "python3"
  },
  "language_info": {
   "codemirror_mode": {
    "name": "ipython",
    "version": 3
   },
   "file_extension": ".py",
   "mimetype": "text/x-python",
   "name": "python",
   "nbconvert_exporter": "python",
   "pygments_lexer": "ipython3",
   "version": "3.9.12"
  }
 },
 "nbformat": 4,
 "nbformat_minor": 5
}
